{
 "cells": [
  {
   "cell_type": "code",
   "execution_count": 1,
   "metadata": {},
   "outputs": [],
   "source": [
    "import os"
   ]
  },
  {
   "cell_type": "code",
   "execution_count": null,
   "metadata": {},
   "outputs": [],
   "source": [
    "\n",
    "os.environ[\"CUDA_DEVICE_ORDER\"] = \"PCI_BUS_ID\"   # see issue #152\n",
    "os.environ[\"CUDA_VISIBLE_DEVICES\"] = \"\""
   ]
  },
  {
   "cell_type": "code",
   "execution_count": 4,
   "metadata": {},
   "outputs": [],
   "source": [
    "\n",
    "import cv2\n",
    "import matplotlib.pyplot as plt\n",
    "%matplotlib inline\n",
    "import numpy as np\n",
    "import random\n",
    "import cityscapes_labels\n",
    "import utils\n",
    "\n",
    "from models import *\n",
    "from keras import losses, metrics, optimizers\n",
    "from metrics import precision, dice_coef\n"
   ]
  },
  {
   "cell_type": "code",
   "execution_count": 5,
   "metadata": {},
   "outputs": [
    {
     "name": "stdout",
     "output_type": "stream",
     "text": [
      "Wed Feb 28 15:23:55 2018       \r\n+-----------------------------------------------------------------------------+\r\n| NVIDIA-SMI 384.111                Driver Version: 384.111                   |\r\n|-------------------------------+----------------------+----------------------+\r\n| GPU  Name        Persistence-M| Bus-Id        Disp.A | Volatile Uncorr. ECC |\r\n| Fan  Temp  Perf  Pwr:Usage/Cap|         Memory-Usage | GPU-Util  Compute M. |\r\n|===============================+======================+======================|\r\n|   0  GeForce GTX 106...  Off  | 00000000:01:00.0 Off |                  N/A |\r\n|  0%   41C    P8     7W / 120W |    354MiB /  6072MiB |      0%      Default |\r\n+-------------------------------+----------------------+----------------------+\r\n|   1  GeForce GTX 105...  Off  | 00000000:02:00.0 Off |                  N/A |\r\n| 51%   26C    P8   ERR! /  75W |      2MiB /  4038MiB |      0%      Default |\r\n+-------------------------------+----------------------+----------------------+\r\n                                                                               \r\n+-----------------------------------------------------------------------------+\r\n| Processes:                                                       GPU Memory |\r\n|  GPU       PID   Type   Process name                             Usage      |\r\n|=============================================================================|\r\n|    0      1024      G   /usr/lib/xorg/Xorg                           164MiB |\r\n|    0      1634      G   compiz                                        49MiB |\r\n|    0      2446      G   /usr/lib/xorg/Xorg                            57MiB |\r\n+-----------------------------------------------------------------------------+\r\n"
     ]
    }
   ],
   "source": [
    "!nvidia-smi"
   ]
  },
  {
   "cell_type": "code",
   "execution_count": 7,
   "metadata": {},
   "outputs": [
    {
     "name": "stdout",
     "output_type": "stream",
     "text": [
      "_________________________________________________________________\nLayer (type)                 Output Shape              Param #   \n=================================================================\nlayer_2 (Layer)              (None, 384, 640, 3)       0         \n_________________________________________________________________\nconv2d_10 (Conv2D)           (None, 384, 640, 64)      1792      \n_________________________________________________________________\nbatch_normalization_9 (Batch (None, 384, 640, 64)      256       \n_________________________________________________________________\nactivation_6 (Activation)    (None, 384, 640, 64)      0         \n_________________________________________________________________\nmax_pooling2d_4 (MaxPooling2 (None, 192, 320, 64)      0         \n_________________________________________________________________\nconv2d_11 (Conv2D)           (None, 192, 320, 128)     73856     \n_________________________________________________________________\nbatch_normalization_10 (Batc (None, 192, 320, 128)     512       \n_________________________________________________________________\nactivation_7 (Activation)    (None, 192, 320, 128)     0         \n_________________________________________________________________\nmax_pooling2d_5 (MaxPooling2 (None, 96, 160, 128)      0         \n_________________________________________________________________\nconv2d_12 (Conv2D)           (None, 96, 160, 256)      295168    \n_________________________________________________________________\nbatch_normalization_11 (Batc (None, 96, 160, 256)      1024      \n_________________________________________________________________\nactivation_8 (Activation)    (None, 96, 160, 256)      0         \n_________________________________________________________________\nmax_pooling2d_6 (MaxPooling2 (None, 48, 80, 256)       0         \n_________________________________________________________________\nconv2d_13 (Conv2D)           (None, 48, 80, 512)       1180160   \n_________________________________________________________________\nbatch_normalization_12 (Batc (None, 48, 80, 512)       2048      \n_________________________________________________________________\nactivation_9 (Activation)    (None, 48, 80, 512)       0         \n_________________________________________________________________\nconv2d_14 (Conv2D)           (None, 48, 80, 512)       2359808   \n_________________________________________________________________\nbatch_normalization_13 (Batc (None, 48, 80, 512)       2048      \n_________________________________________________________________\nup_sampling2d_4 (UpSampling2 (None, 96, 160, 512)      0         \n_________________________________________________________________\nconv2d_15 (Conv2D)           (None, 96, 160, 256)      1179904   \n_________________________________________________________________\nbatch_normalization_14 (Batc (None, 96, 160, 256)      1024      \n_________________________________________________________________\nup_sampling2d_5 (UpSampling2 (None, 192, 320, 256)     0         \n_________________________________________________________________\nconv2d_16 (Conv2D)           (None, 192, 320, 128)     295040    \n_________________________________________________________________\nbatch_normalization_15 (Batc (None, 192, 320, 128)     512       \n_________________________________________________________________\nup_sampling2d_6 (UpSampling2 (None, 384, 640, 128)     0         \n_________________________________________________________________\nconv2d_17 (Conv2D)           (None, 384, 640, 64)      73792     \n_________________________________________________________________\nbatch_normalization_16 (Batc (None, 384, 640, 64)      256       \n_________________________________________________________________\nconv2d_18 (Conv2D)           (None, 384, 640, 30)      1950      \n_________________________________________________________________\nreshape_2 (Reshape)          (None, 245760, 30)        0         \n_________________________________________________________________\nactivation_10 (Activation)   (None, 245760, 30)        0         \n=================================================================\nTotal params: 5,469,150\nTrainable params: 5,465,310\nNon-trainable params: 3,840\n_________________________________________________________________\n"
     ]
    }
   ],
   "source": [
    "#target_height, target_width = 360, 480\n",
    "#target_height, target_width = 360, 648\n",
    "target_size = 384, 640\n",
    "\n",
    "import config\n",
    "\n",
    "\n",
    "labels = cityscapes_labels.labels\n",
    "n_classes = len(labels)\n",
    "batch_size = 2\n",
    "epochs = 10\n",
    "\n",
    "dataset_path = config.data_path('gta')\n",
    "images_path = os.path.join(dataset_path, 'images/')\n",
    "labels_path = os.path.join(dataset_path, 'labels/')\n",
    "\n",
    "# segnet\n",
    "# model = MobileUNet(target_size, n_classes)\n",
    "model = SegNet(target_size, n_classes)\n",
    "\n",
    "#model.k.load_weights('weights/SegNet_2018_02_02_11:44_(200)_finished.h5')\n",
    "# model.k.load_weights('weights/MobileUNet_2018_02_13_23:26_cat_acc-0.87.hdf5')\n",
    "model.k.load_weights('checkpoint/SegNet_d_save_epoch.h5')\n",
    "\n",
    "model.summary()\n",
    "\n",
    "model.k.compile(\n",
    "    loss=losses.categorical_crossentropy,\n",
    "    optimizer=optimizers.Adam(lr=0.001),\n",
    "    metrics=[\n",
    "        dice_coef,\n",
    "        precision,\n",
    "        metrics.categorical_accuracy\n",
    "    ]\n",
    ")"
   ]
  },
  {
   "cell_type": "code",
   "execution_count": null,
   "metadata": {},
   "outputs": [],
   "source": [
    "!ls weights"
   ]
  },
  {
   "cell_type": "code",
   "execution_count": 15,
   "metadata": {},
   "outputs": [
    {
     "name": "stdout",
     "output_type": "stream",
     "text": [
      "(0, '/home/mlyko/data/gta/images/00003.png')\n(1052, 1914, 3)\n\r1/1 [==============================] - 0s 86ms/step\n"
     ]
    },
    {
     "name": "stdout",
     "output_type": "stream",
     "text": [
      "(1, '/home/mlyko/data/gta/images/00005.png')\n(1052, 1914, 3)\n\r1/1 [==============================] - 0s 86ms/step\n"
     ]
    },
    {
     "name": "stdout",
     "output_type": "stream",
     "text": [
      "(2, '/home/mlyko/data/gta/images/00008.png')\n(1052, 1914, 3)\n\r1/1 [==============================] - 0s 87ms/step\n"
     ]
    }
   ],
   "source": [
    "from generator import data_generator\n",
    "import cityscapes_labels\n",
    "\n",
    "# testing set!\n",
    "#predict_filenames = [\n",
    "#    images_path + '00001.png',\n",
    "#    images_path + '22001.png',\n",
    "#    './results/cityscapes_2_img.png',\n",
    "#    './results/exp1_camvid.png',\n",
    "#    './results/img_aachen_000007_000019_leftImg8bit.png.png'\n",
    "#]\n",
    "#\n",
    "\n",
    "predict_filenames = [\n",
    "     images_path + '00003.png',\n",
    "     images_path + '00005.png',\n",
    "     images_path + '00008.png',\n",
    "]\n",
    "\n",
    "f, arr= plt.subplots(len(predict_filenames),2)\n",
    "f.set_size_inches(20,20)\n",
    "\n",
    "for i, filename in enumerate(predict_filenames):\n",
    "    print(i, filename)\n",
    "\n",
    "    image = cv2.imread(filename)\n",
    "\n",
    "    print(image.shape)\n",
    "\n",
    "    norm = data_generator.GTAGenerator.default_normalize(image, target_size)\n",
    "\n",
    "    prediction = model.k.predict(np.array([norm]), batch_size, verbose=1)\n",
    "\n",
    "    class_scores = prediction.reshape((target_size[0], target_size[1], n_classes))\n",
    "    class_image = np.argmax(class_scores, axis=2)\n",
    "    colored_class_image = utils.class_image_to_image(class_image, cityscapes_labels.trainId2label)  # there should be trainid2label\n",
    "\n",
    "    predicting_image = cv2.cvtColor(image, cv2.COLOR_BGR2RGB)\n",
    "    arr[i][0].imshow(predicting_image)\n",
    "    arr[i][1].imshow(colored_class_image)\n",
    "\n",
    "    # im_to_save = cv2.cvtColor(colored_class_image, cv2.COLOR_RGB2BGR)\n",
    "\n",
    "    # cv2.imwrite('results/img_'+str(filename.split('/')[-1])+'.png', image)\n",
    "    # cv2.imwrite('results/pred_'+ str(filename.split('/')[-1])+'.png', im_to_save)"
   ]
  },
  {
   "cell_type": "code",
   "execution_count": null,
   "metadata": {},
   "outputs": [],
   "source": [
    "# test visualize\n",
    "import keras.backend as K\n",
    "\n",
    "predict_filenames = [\n",
    "     images_path + '00003.png',\n",
    "#     images_path + '00005.png',\n",
    "#     images_path + '00008.png',\n",
    "]\n",
    "\n",
    "#f, arr= plt.subplots(len(predict_filenames),2)\n",
    "#f.set_size_inches(20,20)\n",
    "\n",
    "\n",
    "def layer_to_visualize(img_to_visualize, layer, model):\n",
    "    inputs = [K.learning_phase()] + model.inputs\n",
    "\n",
    "    _convout1_f = K.function(inputs, [layer.output])\n",
    "    def convout1_f(X):\n",
    "        # The [0] is to disable the training phase flag\n",
    "        return _convout1_f([0] + [X])\n",
    "\n",
    "    convolutions = convout1_f(img_to_visualize)\n",
    "    convolutions = np.squeeze(convolutions)\n",
    "    convolutions=np.moveaxis(convolutions, 2, 0)\n",
    "    print ('Shape of conv:', convolutions.shape)\n",
    "    \n",
    "    filters = convolutions.shape[0]\n",
    "    print(\"convs\", filters)\n",
    "    n = int(np.ceil(np.sqrt(filters)))\n",
    "#    print(\"sqrted\", n)\n",
    "    # Visualization of each filter of the layer\n",
    "    fig = plt.figure(figsize=(32,32))\n",
    "    for i in range(filters):\n",
    "        ax = fig.add_subplot(n,n,i+1)\n",
    "        ax.imshow(convolutions[i], cmap='rgb')\n"
   ]
  },
  {
   "cell_type": "code",
   "execution_count": null,
   "metadata": {
    "scrolled": false
   },
   "outputs": [],
   "source": [
    "for i, filename in enumerate(predict_filenames):\n",
    "    print(i, filename)\n",
    "\n",
    "    image = cv2.imread(filename)\n",
    "\n",
    "    print(image.shape)\n",
    "\n",
    "    norm = data_generator.SimpleSegmentationGenerator.normalize(image, (target_height,target_width))\n",
    "\n",
    "#    to_vis = np.array([norm])\n",
    "    to_vis = np.expand_dims(norm, axis=0)\n",
    "    print(to_vis.shape)\n",
    "    \n",
    "    layer_to_visualize(to_vis, model.k.get_layer('conv_pw_5_relu'), model.k)    \n",
    "    \n",
    "    layer_to_visualize(to_vis, model.k.get_layer('conv_pw_13_relu'), model.k)    \n",
    "\n",
    "    layer_to_visualize(to_vis, model.k.get_layer('conv2d_transpose_1'), model.k)    \n",
    "    layer_to_visualize(to_vis, model.k.get_layer('conv2d_transpose_4'), model.k)    "
   ]
  },
  {
   "cell_type": "code",
   "execution_count": null,
   "metadata": {},
   "outputs": [],
   "source": []
  },
  {
   "cell_type": "code",
   "execution_count": null,
   "metadata": {},
   "outputs": [],
   "source": []
  },
  {
   "cell_type": "code",
   "execution_count": null,
   "metadata": {},
   "outputs": [],
   "source": []
  },
  {
   "cell_type": "code",
   "execution_count": null,
   "metadata": {},
   "outputs": [],
   "source": [
    "!pwd"
   ]
  },
  {
   "cell_type": "code",
   "execution_count": null,
   "metadata": {},
   "outputs": [],
   "source": []
  },
  {
   "cell_type": "code",
   "execution_count": null,
   "metadata": {},
   "outputs": [],
   "source": []
  },
  {
   "cell_type": "code",
   "execution_count": null,
   "metadata": {},
   "outputs": [],
   "source": []
  },
  {
   "cell_type": "code",
   "execution_count": null,
   "metadata": {},
   "outputs": [],
   "source": []
  },
  {
   "cell_type": "code",
   "execution_count": null,
   "metadata": {},
   "outputs": [],
   "source": []
  }
 ],
 "metadata": {
  "kernelspec": {
   "display_name": "Python 2",
   "language": "python",
   "name": "python2"
  },
  "language_info": {
   "codemirror_mode": {
    "name": "ipython",
    "version": 2
   },
   "file_extension": ".py",
   "mimetype": "text/x-python",
   "name": "python",
   "nbconvert_exporter": "python",
   "pygments_lexer": "ipython2",
   "version": "2.7.10"
  }
 },
 "nbformat": 4,
 "nbformat_minor": 1
}
